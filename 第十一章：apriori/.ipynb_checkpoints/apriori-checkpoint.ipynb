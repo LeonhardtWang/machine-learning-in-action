{
 "cells": [
  {
   "cell_type": "code",
   "execution_count": 1,
   "metadata": {},
   "outputs": [],
   "source": [
    "def loadDataSet():\n",
    "    return [[1, 3, 4], [2, 3, 5], [1, 2, 3, 5], [2, 5]]\n",
    "\n",
    "def createC1(dataSet): # 生成所有单个物品的项集列表\n",
    "    C1 = []\n",
    "    for transaction in dataSet:\n",
    "        for item in transaction:\n",
    "            if not [item] in C1: # 储存所有不重复的选项\n",
    "                C1.append([item])\n",
    "    C1.sort()\n",
    "    return list(map(frozenset, C1)) # set()为可变集合，frozenset()为不可变集合,可以作为字典的键使用\n",
    "\n",
    "def scanD(D, Ck, minSupport): # 获取L1列表\n",
    "    # 参数：D:数据集；Ck:候选项集列表；minSupport:感兴趣项集的最小支持度\n",
    "    ssCnt = {}\n",
    "    for tid in D:\n",
    "        for can in Ck:\n",
    "            if can.issubset(tid):\n",
    "                 # if not ssCnt.has_key(can) # python3不支持\n",
    "                if not can in ssCnt: ssCnt[can] = 1\n",
    "                else: ssCnt[can] += 1\n",
    "    numItems = float(len(D))\n",
    "    retList = []\n",
    "    supportData = {}\n",
    "    for key in ssCnt:\n",
    "        support = ssCnt[key] / numItems\n",
    "        if support >= minSupport:\n",
    "            retList.insert(0, key) # insert()函数用于将指定对象插入列表的指定位置\n",
    "        supportData[key] = support\n",
    "    return retList, supportData"
   ]
  },
  {
   "cell_type": "code",
   "execution_count": 2,
   "metadata": {},
   "outputs": [
    {
     "data": {
      "text/plain": [
       "[[1, 3, 4], [2, 3, 5], [1, 2, 3, 5], [2, 5]]"
      ]
     },
     "execution_count": 2,
     "metadata": {},
     "output_type": "execute_result"
    }
   ],
   "source": [
    "dataSet = loadDataSet()\n",
    "dataSet"
   ]
  },
  {
   "cell_type": "code",
   "execution_count": 3,
   "metadata": {},
   "outputs": [
    {
     "data": {
      "text/plain": [
       "[frozenset({1}),\n",
       " frozenset({2}),\n",
       " frozenset({3}),\n",
       " frozenset({4}),\n",
       " frozenset({5})]"
      ]
     },
     "execution_count": 3,
     "metadata": {},
     "output_type": "execute_result"
    }
   ],
   "source": [
    "C1 = createC1(dataSet)\n",
    "C1"
   ]
  },
  {
   "cell_type": "code",
   "execution_count": 4,
   "metadata": {},
   "outputs": [
    {
     "data": {
      "text/plain": [
       "[{1, 3, 4}, {2, 3, 5}, {1, 2, 3, 5}, {2, 5}]"
      ]
     },
     "execution_count": 4,
     "metadata": {},
     "output_type": "execute_result"
    }
   ],
   "source": [
    "D = list(map(set, dataSet))\n",
    "D"
   ]
  },
  {
   "cell_type": "code",
   "execution_count": 5,
   "metadata": {},
   "outputs": [
    {
     "data": {
      "text/plain": [
       "[frozenset({5}), frozenset({2}), frozenset({3}), frozenset({1})]"
      ]
     },
     "execution_count": 5,
     "metadata": {},
     "output_type": "execute_result"
    }
   ],
   "source": [
    "L1, suppData0 = scanD(D, C1, 0.5)\n",
    "L1"
   ]
  },
  {
   "cell_type": "code",
   "execution_count": 6,
   "metadata": {},
   "outputs": [],
   "source": [
    "# 完整的Apriori算法\n",
    "\n",
    "def aprioriGen(Lk, k):\n",
    "    # 参数：Lk:频繁项集列表；k：项集元素个数\n",
    "    retList = []\n",
    "    lenLk = len(Lk)\n",
    "    for i in range(lenLk):\n",
    "        for j in range(i+1, lenLk): # 由于最后一个项集列表只包含一个集合，所以i+1=lenLk=1，这整个循环都不会执行，所有返回[]\n",
    "            L1 = list(Lk[i])[:k-2]; L2 = list(Lk[j])[:k-2]\n",
    "            L1.sort(); L2.sort()\n",
    "            if L1 == L2: # 若两个集合的前k-2个项相同时，则将两个集合合并\n",
    "                retList.append(Lk[i] | Lk[j]) # 合并集合\n",
    "    return retList\n",
    "\n",
    "def apriori(dataSet, minSupport=0.5):\n",
    "    C1 = createC1(dataSet)\n",
    "    D = list(map(set, dataSet))\n",
    "    L1, supportData = scanD(D, C1, minSupport)\n",
    "    L = [L1]\n",
    "    k = 2\n",
    "    while(len(L[k-2]) > 0):\n",
    "        Ck = aprioriGen(L[k-2], k)\n",
    "        Lk, supK = scanD(D, Ck, minSupport)\n",
    "        supportData.update(supK) # update()函数把字典dict2的键/值对更新到dict里\n",
    "        L.append(Lk)\n",
    "        k += 1\n",
    "    return L, supportData"
   ]
  },
  {
   "cell_type": "code",
   "execution_count": 7,
   "metadata": {
    "scrolled": true
   },
   "outputs": [
    {
     "data": {
      "text/plain": [
       "[[frozenset({5}), frozenset({2}), frozenset({3}), frozenset({1})],\n",
       " [frozenset({2, 3}), frozenset({3, 5}), frozenset({2, 5}), frozenset({1, 3})],\n",
       " [frozenset({2, 3, 5})],\n",
       " []]"
      ]
     },
     "execution_count": 7,
     "metadata": {},
     "output_type": "execute_result"
    }
   ],
   "source": [
    "L, suppData = apriori(dataSet)\n",
    "L"
   ]
  },
  {
   "cell_type": "code",
   "execution_count": 8,
   "metadata": {},
   "outputs": [
    {
     "data": {
      "text/plain": [
       "[frozenset({5}), frozenset({2}), frozenset({3}), frozenset({1})]"
      ]
     },
     "execution_count": 8,
     "metadata": {},
     "output_type": "execute_result"
    }
   ],
   "source": [
    "L[0]"
   ]
  },
  {
   "cell_type": "code",
   "execution_count": 9,
   "metadata": {},
   "outputs": [
    {
     "data": {
      "text/plain": [
       "[frozenset({2, 3}), frozenset({3, 5}), frozenset({2, 5}), frozenset({1, 3})]"
      ]
     },
     "execution_count": 9,
     "metadata": {},
     "output_type": "execute_result"
    }
   ],
   "source": [
    "L[1]"
   ]
  },
  {
   "cell_type": "code",
   "execution_count": 10,
   "metadata": {},
   "outputs": [
    {
     "data": {
      "text/plain": [
       "[frozenset({2, 3, 5})]"
      ]
     },
     "execution_count": 10,
     "metadata": {},
     "output_type": "execute_result"
    }
   ],
   "source": [
    "L[2]"
   ]
  },
  {
   "cell_type": "code",
   "execution_count": 11,
   "metadata": {},
   "outputs": [
    {
     "data": {
      "text/plain": [
       "[]"
      ]
     },
     "execution_count": 11,
     "metadata": {},
     "output_type": "execute_result"
    }
   ],
   "source": [
    "L[3]"
   ]
  },
  {
   "cell_type": "code",
   "execution_count": 12,
   "metadata": {},
   "outputs": [
    {
     "data": {
      "text/plain": [
       "[frozenset({2, 5}),\n",
       " frozenset({3, 5}),\n",
       " frozenset({1, 5}),\n",
       " frozenset({2, 3}),\n",
       " frozenset({1, 2}),\n",
       " frozenset({1, 3})]"
      ]
     },
     "execution_count": 12,
     "metadata": {},
     "output_type": "execute_result"
    }
   ],
   "source": [
    "aprioriGen(L[0], 2)"
   ]
  },
  {
   "cell_type": "code",
   "execution_count": 13,
   "metadata": {},
   "outputs": [
    {
     "data": {
      "text/plain": [
       "[[frozenset({5}), frozenset({2}), frozenset({3})], [frozenset({2, 5})], []]"
      ]
     },
     "execution_count": 13,
     "metadata": {},
     "output_type": "execute_result"
    }
   ],
   "source": [
    "L, suppData = apriori(dataSet, minSupport=0.7)\n",
    "L"
   ]
  },
  {
   "cell_type": "code",
   "execution_count": 14,
   "metadata": {},
   "outputs": [],
   "source": [
    "# 关联规则生成函数\n",
    "def generateRules(L, supportData, minConf=0.7):\n",
    "    #参数：L:频繁项集列表；supportData:包含频繁项集支持数据的字典；minConf:最小可信度阈值\n",
    "    bigRuleList = []\n",
    "    for i in range(1, len(L)):\n",
    "        for freqSet in L[i]:\n",
    "            H1 = [frozenset([item]) for item in freqSet]\n",
    "            if (i > 1):\n",
    "                rulesFromConseq(freqSet, H1, supportData, bigRuleList, minConf)\n",
    "            else:\n",
    "                calcConf(freqSet, H1, supportData, bigRuleList, minConf)\n",
    "    return bigRuleList\n",
    "\n",
    "# 生成候选规则集合：计算出规则的可信度并找到满足最小可信度要求的规则\n",
    "def calcConf(freqSet, H, supportData, brl, minConf=0.7):\n",
    "    prunedH = [] # 返回一个满足最小可信度要求的规则列表，包含箭头右边那部分\n",
    "    for conseq in H:\n",
    "        conf = supportData[freqSet] / supportData[freqSet - conseq] # 集合支持相减\n",
    "        if conf >= minConf:\n",
    "            print(freqSet - conseq, '-->', conseq, 'conf:', conf)\n",
    "            brl.append((freqSet - conseq, conseq, conf))\n",
    "            prunedH.append(conseq)\n",
    "    return prunedH\n",
    "\n",
    "# 对规则进行评估\n",
    "def rulesFromConseq(freqSet, H, supportData, brl, minConf=0.7):\n",
    "    m = len(H[0])\n",
    "    if (len(freqSet) > (m + 1)):\n",
    "        Hmp1 = aprioriGen(H, m+1)\n",
    "        Hmp1 = calcConf(freqSet, Hmp1, supportData, brl, minConf)\n",
    "        if (len(Hmp1) > 1):\n",
    "            rulesFromConseq(freqSet, Hmp1, supportData, brl, minConf)"
   ]
  },
  {
   "cell_type": "code",
   "execution_count": 15,
   "metadata": {},
   "outputs": [],
   "source": [
    "L, suppData = apriori(dataSet, minSupport=0.5)"
   ]
  },
  {
   "cell_type": "code",
   "execution_count": 16,
   "metadata": {},
   "outputs": [
    {
     "name": "stdout",
     "output_type": "stream",
     "text": [
      "frozenset({5}) --> frozenset({2}) conf: 1.0\n",
      "frozenset({2}) --> frozenset({5}) conf: 1.0\n",
      "frozenset({1}) --> frozenset({3}) conf: 1.0\n"
     ]
    }
   ],
   "source": [
    "rules = generateRules(L, suppData, minConf=0.7)"
   ]
  },
  {
   "cell_type": "code",
   "execution_count": 17,
   "metadata": {},
   "outputs": [
    {
     "data": {
      "text/plain": [
       "[(frozenset({5}), frozenset({2}), 1.0),\n",
       " (frozenset({2}), frozenset({5}), 1.0),\n",
       " (frozenset({1}), frozenset({3}), 1.0)]"
      ]
     },
     "execution_count": 17,
     "metadata": {},
     "output_type": "execute_result"
    }
   ],
   "source": [
    "rules"
   ]
  },
  {
   "cell_type": "code",
   "execution_count": 18,
   "metadata": {},
   "outputs": [
    {
     "name": "stdout",
     "output_type": "stream",
     "text": [
      "frozenset({3}) --> frozenset({2}) conf: 0.6666666666666666\n",
      "frozenset({2}) --> frozenset({3}) conf: 0.6666666666666666\n",
      "frozenset({5}) --> frozenset({3}) conf: 0.6666666666666666\n",
      "frozenset({3}) --> frozenset({5}) conf: 0.6666666666666666\n",
      "frozenset({5}) --> frozenset({2}) conf: 1.0\n",
      "frozenset({2}) --> frozenset({5}) conf: 1.0\n",
      "frozenset({3}) --> frozenset({1}) conf: 0.6666666666666666\n",
      "frozenset({1}) --> frozenset({3}) conf: 1.0\n",
      "frozenset({5}) --> frozenset({2, 3}) conf: 0.6666666666666666\n",
      "frozenset({3}) --> frozenset({2, 5}) conf: 0.6666666666666666\n",
      "frozenset({2}) --> frozenset({3, 5}) conf: 0.6666666666666666\n"
     ]
    }
   ],
   "source": [
    "rules = generateRules(L, suppData, minConf=0.5)"
   ]
  },
  {
   "cell_type": "code",
   "execution_count": 19,
   "metadata": {},
   "outputs": [
    {
     "data": {
      "text/plain": [
       "[(frozenset({3}), frozenset({2}), 0.6666666666666666),\n",
       " (frozenset({2}), frozenset({3}), 0.6666666666666666),\n",
       " (frozenset({5}), frozenset({3}), 0.6666666666666666),\n",
       " (frozenset({3}), frozenset({5}), 0.6666666666666666),\n",
       " (frozenset({5}), frozenset({2}), 1.0),\n",
       " (frozenset({2}), frozenset({5}), 1.0),\n",
       " (frozenset({3}), frozenset({1}), 0.6666666666666666),\n",
       " (frozenset({1}), frozenset({3}), 1.0),\n",
       " (frozenset({5}), frozenset({2, 3}), 0.6666666666666666),\n",
       " (frozenset({3}), frozenset({2, 5}), 0.6666666666666666),\n",
       " (frozenset({2}), frozenset({3, 5}), 0.6666666666666666)]"
      ]
     },
     "execution_count": 19,
     "metadata": {},
     "output_type": "execute_result"
    }
   ],
   "source": [
    "rules"
   ]
  },
  {
   "cell_type": "markdown",
   "metadata": {},
   "source": [
    "示例：发现毒蘑菇的相似特征"
   ]
  },
  {
   "cell_type": "code",
   "execution_count": 20,
   "metadata": {},
   "outputs": [],
   "source": [
    "mushDatSet = [line.split() for line in open('mushroom.dat').readlines()]"
   ]
  },
  {
   "cell_type": "code",
   "execution_count": 21,
   "metadata": {},
   "outputs": [],
   "source": [
    "L, suppData = apriori(mushDatSet, minSupport=0.3)"
   ]
  },
  {
   "cell_type": "code",
   "execution_count": 22,
   "metadata": {},
   "outputs": [
    {
     "name": "stdout",
     "output_type": "stream",
     "text": [
      "frozenset({'2', '28'})\n",
      "frozenset({'2', '53'})\n",
      "frozenset({'2', '23'})\n",
      "frozenset({'2', '34'})\n",
      "frozenset({'2', '36'})\n",
      "frozenset({'2', '59'})\n",
      "frozenset({'2', '63'})\n",
      "frozenset({'2', '67'})\n",
      "frozenset({'2', '76'})\n",
      "frozenset({'2', '85'})\n",
      "frozenset({'2', '86'})\n",
      "frozenset({'2', '90'})\n",
      "frozenset({'2', '93'})\n",
      "frozenset({'2', '39'})\n"
     ]
    }
   ],
   "source": [
    "for item in L[1]:\n",
    "    if item.intersection('2'): # 返回交集，交集为空相当于False，非空相当于True\n",
    "        print(item)"
   ]
  },
  {
   "cell_type": "code",
   "execution_count": 23,
   "metadata": {},
   "outputs": [
    {
     "name": "stdout",
     "output_type": "stream",
     "text": [
      "frozenset({'2', '59', '34', '28'})\n",
      "frozenset({'2', '63', '34', '28'})\n",
      "frozenset({'2', '85', '34', '28'})\n",
      "frozenset({'2', '86', '34', '28'})\n",
      "frozenset({'2', '34', '90', '28'})\n",
      "frozenset({'2', '34', '28', '39'})\n",
      "frozenset({'2', '59', '63', '28'})\n",
      "frozenset({'2', '59', '85', '28'})\n",
      "frozenset({'2', '85', '63', '28'})\n",
      "frozenset({'2', '59', '86', '28'})\n",
      "frozenset({'2', '63', '86', '28'})\n",
      "frozenset({'2', '85', '86', '28'})\n",
      "frozenset({'2', '59', '90', '28'})\n",
      "frozenset({'2', '85', '90', '28'})\n",
      "frozenset({'2', '86', '90', '28'})\n",
      "frozenset({'2', '90', '28', '39'})\n",
      "frozenset({'2', '59', '28', '39'})\n",
      "frozenset({'2', '63', '28', '39'})\n",
      "frozenset({'2', '85', '28', '39'})\n",
      "frozenset({'2', '86', '28', '39'})\n",
      "frozenset({'2', '53', '85', '34'})\n",
      "frozenset({'2', '53', '86', '34'})\n",
      "frozenset({'2', '53', '34', '90'})\n",
      "frozenset({'2', '53', '34', '39'})\n",
      "frozenset({'2', '53', '34', '28'})\n",
      "frozenset({'2', '53', '85', '28'})\n",
      "frozenset({'2', '53', '86', '28'})\n",
      "frozenset({'2', '53', '85', '86'})\n",
      "frozenset({'2', '53', '90', '28'})\n",
      "frozenset({'2', '53', '85', '90'})\n",
      "frozenset({'2', '53', '86', '90'})\n",
      "frozenset({'2', '53', '28', '39'})\n",
      "frozenset({'2', '53', '85', '39'})\n",
      "frozenset({'2', '53', '86', '39'})\n",
      "frozenset({'2', '53', '90', '39'})\n",
      "frozenset({'2', '36', '23', '34'})\n",
      "frozenset({'2', '59', '23', '34'})\n",
      "frozenset({'2', '59', '36', '34'})\n",
      "frozenset({'2', '63', '23', '34'})\n",
      "frozenset({'2', '36', '63', '34'})\n",
      "frozenset({'2', '59', '63', '34'})\n",
      "frozenset({'2', '85', '23', '34'})\n",
      "frozenset({'2', '85', '36', '34'})\n",
      "frozenset({'2', '59', '85', '34'})\n",
      "frozenset({'2', '85', '63', '34'})\n",
      "frozenset({'2', '85', '34', '67'})\n",
      "frozenset({'2', '76', '85', '34'})\n",
      "frozenset({'2', '23', '86', '34'})\n",
      "frozenset({'2', '36', '86', '34'})\n",
      "frozenset({'2', '59', '86', '34'})\n",
      "frozenset({'2', '63', '86', '34'})\n",
      "frozenset({'2', '86', '34', '67'})\n",
      "frozenset({'2', '76', '86', '34'})\n",
      "frozenset({'2', '85', '86', '34'})\n",
      "frozenset({'2', '23', '34', '90'})\n",
      "frozenset({'2', '36', '34', '90'})\n",
      "frozenset({'2', '59', '34', '90'})\n",
      "frozenset({'2', '63', '34', '90'})\n",
      "frozenset({'2', '85', '34', '90'})\n",
      "frozenset({'2', '86', '34', '90'})\n",
      "frozenset({'2', '93', '23', '34'})\n",
      "frozenset({'2', '93', '36', '34'})\n",
      "frozenset({'2', '93', '59', '34'})\n",
      "frozenset({'2', '93', '63', '34'})\n",
      "frozenset({'2', '93', '85', '34'})\n",
      "frozenset({'2', '93', '86', '34'})\n",
      "frozenset({'2', '93', '34', '90'})\n",
      "frozenset({'2', '23', '34', '39'})\n",
      "frozenset({'2', '36', '34', '39'})\n",
      "frozenset({'2', '59', '34', '39'})\n",
      "frozenset({'2', '63', '34', '39'})\n",
      "frozenset({'2', '67', '34', '39'})\n",
      "frozenset({'2', '76', '34', '39'})\n",
      "frozenset({'2', '85', '34', '39'})\n",
      "frozenset({'2', '86', '34', '39'})\n",
      "frozenset({'2', '34', '90', '39'})\n",
      "frozenset({'2', '93', '34', '39'})\n",
      "frozenset({'2', '59', '36', '23'})\n",
      "frozenset({'2', '36', '63', '23'})\n",
      "frozenset({'2', '85', '36', '23'})\n",
      "frozenset({'2', '36', '23', '86'})\n",
      "frozenset({'2', '93', '36', '23'})\n",
      "frozenset({'2', '36', '23', '39'})\n",
      "frozenset({'2', '36', '63', '39'})\n",
      "frozenset({'2', '59', '63', '23'})\n",
      "frozenset({'2', '59', '36', '63'})\n",
      "frozenset({'2', '59', '85', '23'})\n",
      "frozenset({'2', '59', '85', '36'})\n",
      "frozenset({'2', '59', '85', '63'})\n",
      "frozenset({'2', '59', '23', '86'})\n",
      "frozenset({'2', '59', '36', '86'})\n",
      "frozenset({'2', '59', '23', '90'})\n",
      "frozenset({'2', '59', '36', '90'})\n",
      "frozenset({'2', '93', '59', '23'})\n",
      "frozenset({'2', '93', '59', '36'})\n",
      "frozenset({'2', '59', '23', '39'})\n",
      "frozenset({'2', '59', '36', '39'})\n",
      "frozenset({'2', '59', '63', '39'})\n",
      "frozenset({'2', '59', '85', '39'})\n",
      "frozenset({'2', '85', '63', '23'})\n",
      "frozenset({'2', '85', '63', '36'})\n",
      "frozenset({'2', '63', '23', '86'})\n",
      "frozenset({'2', '36', '63', '86'})\n",
      "frozenset({'2', '59', '63', '86'})\n",
      "frozenset({'2', '36', '63', '90'})\n",
      "frozenset({'2', '59', '63', '90'})\n",
      "frozenset({'2', '93', '36', '63'})\n",
      "frozenset({'2', '93', '59', '63'})\n",
      "frozenset({'2', '63', '23', '39'})\n",
      "frozenset({'2', '85', '86', '67'})\n",
      "frozenset({'2', '85', '67', '39'})\n",
      "frozenset({'2', '86', '67', '39'})\n",
      "frozenset({'2', '76', '85', '86'})\n",
      "frozenset({'2', '76', '85', '39'})\n",
      "frozenset({'2', '76', '86', '39'})\n",
      "frozenset({'2', '85', '23', '86'})\n",
      "frozenset({'2', '85', '36', '86'})\n",
      "frozenset({'2', '59', '85', '86'})\n",
      "frozenset({'2', '85', '63', '86'})\n",
      "frozenset({'2', '85', '23', '90'})\n",
      "frozenset({'2', '85', '36', '90'})\n",
      "frozenset({'2', '59', '85', '90'})\n",
      "frozenset({'2', '85', '63', '90'})\n",
      "frozenset({'2', '93', '85', '23'})\n",
      "frozenset({'2', '93', '85', '36'})\n",
      "frozenset({'2', '93', '85', '59'})\n",
      "frozenset({'2', '93', '85', '63'})\n",
      "frozenset({'2', '85', '23', '39'})\n",
      "frozenset({'2', '85', '36', '39'})\n",
      "frozenset({'2', '85', '63', '39'})\n",
      "frozenset({'2', '23', '86', '90'})\n",
      "frozenset({'2', '36', '86', '90'})\n",
      "frozenset({'2', '59', '86', '90'})\n",
      "frozenset({'2', '63', '86', '90'})\n",
      "frozenset({'2', '85', '86', '90'})\n",
      "frozenset({'2', '93', '23', '86'})\n",
      "frozenset({'2', '93', '36', '86'})\n",
      "frozenset({'2', '93', '59', '86'})\n",
      "frozenset({'2', '93', '63', '86'})\n",
      "frozenset({'2', '93', '85', '86'})\n",
      "frozenset({'2', '23', '86', '39'})\n",
      "frozenset({'2', '36', '86', '39'})\n",
      "frozenset({'2', '59', '86', '39'})\n",
      "frozenset({'2', '63', '86', '39'})\n",
      "frozenset({'2', '85', '86', '39'})\n",
      "frozenset({'2', '93', '23', '90'})\n",
      "frozenset({'2', '93', '36', '90'})\n",
      "frozenset({'2', '93', '59', '90'})\n",
      "frozenset({'2', '93', '63', '90'})\n",
      "frozenset({'2', '93', '85', '90'})\n",
      "frozenset({'2', '93', '86', '90'})\n",
      "frozenset({'2', '36', '90', '39'})\n",
      "frozenset({'2', '59', '90', '39'})\n",
      "frozenset({'2', '63', '90', '39'})\n",
      "frozenset({'2', '85', '90', '39'})\n",
      "frozenset({'2', '86', '90', '39'})\n",
      "frozenset({'2', '93', '90', '39'})\n",
      "frozenset({'2', '93', '23', '39'})\n",
      "frozenset({'2', '93', '36', '39'})\n",
      "frozenset({'2', '93', '59', '39'})\n",
      "frozenset({'2', '93', '63', '39'})\n",
      "frozenset({'2', '93', '85', '39'})\n",
      "frozenset({'2', '93', '86', '39'})\n"
     ]
    }
   ],
   "source": [
    "for item in L[3]:\n",
    "    if item.intersection('2'):\n",
    "        print(item)"
   ]
  }
 ],
 "metadata": {
  "kernelspec": {
   "display_name": "Python 3",
   "language": "python",
   "name": "python3"
  },
  "language_info": {
   "codemirror_mode": {
    "name": "ipython",
    "version": 3
   },
   "file_extension": ".py",
   "mimetype": "text/x-python",
   "name": "python",
   "nbconvert_exporter": "python",
   "pygments_lexer": "ipython3",
   "version": "3.6.4"
  }
 },
 "nbformat": 4,
 "nbformat_minor": 2
}
